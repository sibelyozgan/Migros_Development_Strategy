{
 "cells": [
  {
   "cell_type": "code",
   "execution_count": 1,
   "id": "b9b42bc5-fd70-4fc2-a983-a83959719e91",
   "metadata": {},
   "outputs": [],
   "source": [
    "import json\n",
    "import requests\n",
    "import yaml\n",
    "import pandas as pd\n",
    "import plotly.graph_objects as go"
   ]
  },
  {
   "cell_type": "code",
   "execution_count": 2,
   "id": "c9ef22ef-6176-48dd-a3f3-a1a65a085d1f",
   "metadata": {},
   "outputs": [],
   "source": [
    "key_dict = yaml.load(open(\"credentials.yml\"), Loader=yaml.FullLoader)\n",
    "gmaps_key =key_dict[\"key\"]"
   ]
  },
  {
   "cell_type": "code",
   "execution_count": null,
   "id": "35983d72-e8c2-4b28-9604-5a2ea407ea8e",
   "metadata": {},
   "outputs": [],
   "source": [
    "url = \"https://maps.googleapis.com/maps/api/place/textsearch/json?\"\n",
    "fields = [\"name\", \"geometry\"]"
   ]
  },
  {
   "cell_type": "markdown",
   "id": "646094f3-3fa1-43c0-81ab-fdd19ab6aecc",
   "metadata": {},
   "source": [
    "# Migros"
   ]
  },
  {
   "cell_type": "code",
   "execution_count": 34,
   "id": "c718e435-6c55-4372-b139-d573cac1baae",
   "metadata": {},
   "outputs": [],
   "source": [
    "query0 = \"migros\"\n",
    "migros0 =requests.get(\n",
    "    f\"{url}input={query0}&inputtype=textquery&fields={','.join(fields)}&key={gmaps_key}\")\n",
    "df=pd.json_normalize(migros0.json()[\"results\"])   \n",
    "\n",
    "for i in range(13):\n",
    "         query1 = \"migros kreis \"+str(i)\n",
    "         migros_loc =requests.get(\n",
    "    f\"{url}input={query1}&inputtype=textquery&fields={','.join(fields)}&key={gmaps_key}\")\n",
    "         df=pd.concat([df,pd.json_normalize(migros_loc.json()[\"results\"])])   "
   ]
  },
  {
   "cell_type": "code",
   "execution_count": 35,
   "id": "8dbe4461-97f9-45b5-8a73-8170d57e139e",
   "metadata": {},
   "outputs": [
    {
     "data": {
      "text/plain": [
       "Index(['business_status', 'formatted_address', 'icon', 'icon_background_color',\n",
       "       'icon_mask_base_uri', 'name', 'photos', 'place_id', 'rating',\n",
       "       'reference', 'types', 'user_ratings_total', 'geometry.location.lat',\n",
       "       'geometry.location.lng', 'geometry.viewport.northeast.lat',\n",
       "       'geometry.viewport.northeast.lng', 'geometry.viewport.southwest.lat',\n",
       "       'geometry.viewport.southwest.lng', 'opening_hours.open_now',\n",
       "       'plus_code.compound_code', 'plus_code.global_code',\n",
       "       'permanently_closed', 'price_level'],\n",
       "      dtype='object')"
      ]
     },
     "execution_count": 35,
     "metadata": {},
     "output_type": "execute_result"
    }
   ],
   "source": [
    "df.columns"
   ]
  },
  {
   "cell_type": "code",
   "execution_count": 36,
   "id": "b09ab040-9858-429f-9009-35190067c48d",
   "metadata": {},
   "outputs": [
    {
     "data": {
      "text/plain": [
       "(79, 23)"
      ]
     },
     "execution_count": 36,
     "metadata": {},
     "output_type": "execute_result"
    }
   ],
   "source": [
    "df=df.drop_duplicates(subset=['place_id'])\n",
    "df.shape"
   ]
  },
  {
   "cell_type": "code",
   "execution_count": 38,
   "id": "9eac907a-40c3-4c6e-bffe-677c9f85b1c7",
   "metadata": {},
   "outputs": [],
   "source": [
    "df.to_csv('migros.csv', index=False) "
   ]
  },
  {
   "cell_type": "markdown",
   "id": "496b4784-e19c-4f48-b27f-960df87cd850",
   "metadata": {},
   "source": [
    "# Coop"
   ]
  },
  {
   "cell_type": "code",
   "execution_count": 40,
   "id": "ffe9c2c9-fe31-4ae2-ab50-c73b44b00e3b",
   "metadata": {},
   "outputs": [],
   "source": [
    "query2 = \"coop\"\n",
    "coop0 =requests.get(\n",
    "    f\"{url}input={query2}&inputtype=textquery&fields={','.join(fields)}&key={gmaps_key}\")\n",
    "df2=pd.json_normalize(coop0.json()[\"results\"])   \n",
    "\n",
    "for i in range(13):\n",
    "         query3 = \"coop kreis \"+str(i)\n",
    "         coop_loc =requests.get(\n",
    "    f\"{url}input={query3}&inputtype=textquery&fields={','.join(fields)}&key={gmaps_key}\")\n",
    "         df2=pd.concat([df2,pd.json_normalize(coop_loc.json()[\"results\"])])   "
   ]
  },
  {
   "cell_type": "code",
   "execution_count": 41,
   "id": "224cac6a-d1db-4cac-aab4-5adc92703c44",
   "metadata": {},
   "outputs": [
    {
     "data": {
      "text/plain": [
       "Index(['business_status', 'formatted_address', 'icon', 'icon_background_color',\n",
       "       'icon_mask_base_uri', 'name', 'photos', 'place_id', 'rating',\n",
       "       'reference', 'types', 'user_ratings_total', 'geometry.location.lat',\n",
       "       'geometry.location.lng', 'geometry.viewport.northeast.lat',\n",
       "       'geometry.viewport.northeast.lng', 'geometry.viewport.southwest.lat',\n",
       "       'geometry.viewport.southwest.lng', 'opening_hours.open_now',\n",
       "       'plus_code.compound_code', 'plus_code.global_code', 'price_level'],\n",
       "      dtype='object')"
      ]
     },
     "execution_count": 41,
     "metadata": {},
     "output_type": "execute_result"
    }
   ],
   "source": [
    "df2.columns"
   ]
  },
  {
   "cell_type": "code",
   "execution_count": 42,
   "id": "2706acca-1a42-419d-8113-cd4ae86c3fff",
   "metadata": {},
   "outputs": [
    {
     "data": {
      "text/plain": [
       "(109, 22)"
      ]
     },
     "execution_count": 42,
     "metadata": {},
     "output_type": "execute_result"
    }
   ],
   "source": [
    "df2=df2.drop_duplicates(subset=['place_id'])\n",
    "df2.shape"
   ]
  },
  {
   "cell_type": "code",
   "execution_count": 44,
   "id": "0e88b3bd-1d79-4ba6-8df6-072b30172cd0",
   "metadata": {},
   "outputs": [],
   "source": [
    "df2.to_csv('coop.csv', index=False) "
   ]
  }
 ],
 "metadata": {
  "kernelspec": {
   "display_name": "Python 3 (ipykernel)",
   "language": "python",
   "name": "python3"
  },
  "language_info": {
   "codemirror_mode": {
    "name": "ipython",
    "version": 3
   },
   "file_extension": ".py",
   "mimetype": "text/x-python",
   "name": "python",
   "nbconvert_exporter": "python",
   "pygments_lexer": "ipython3",
   "version": "3.8.8"
  }
 },
 "nbformat": 4,
 "nbformat_minor": 5
}
